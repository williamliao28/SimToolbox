{
 "cells": [
  {
   "cell_type": "code",
   "execution_count": 1,
   "metadata": {},
   "outputs": [
    {
     "data": {
      "image/png": "[encoded data removed]",
      "text/plain": [
       "<Figure size 432x288 with 1 Axes>"
      ]
     },
     "metadata": {
      "needs_background": "light"
     },
     "output_type": "display_data"
    }
   ],
   "source": [
    "import scipy.io\n",
    "import scipy.sparse\n",
    "import matplotlib.pyplot as plt\n",
    "\n",
    "Dt = scipy.io.mmread(\"DMatTrans_TCMAT.mtx\");\n",
    "D  = Dt.transpose();\n",
    "\n",
    "fig, axs = plt.subplots(1, 1);\n",
    "ax1 = axs;\n",
    "ax1.spy(Dt);"
   ]
  },
  {
   "cell_type": "code",
   "execution_count": 2,
   "metadata": {},
   "outputs": [
    {
     "data": {
      "image/png": "[encoded data removed]",
      "text/plain": [
       "<Figure size 432x288 with 1 Axes>"
      ]
     },
     "metadata": {
      "needs_background": "light"
     },
     "output_type": "display_data"
    }
   ],
   "source": [
    "fig, axs = plt.subplots(1, 1);\n",
    "ax1 = axs;\n",
    "ax1.spy(D);"
   ]
  },
  {
   "cell_type": "code",
   "execution_count": 3,
   "metadata": {},
   "outputs": [
    {
     "data": {
      "image/png": "[encoded data removed]",
      "text/plain": [
       "<Figure size 432x288 with 1 Axes>"
      ]
     },
     "metadata": {
      "needs_background": "light"
     },
     "output_type": "display_data"
    }
   ],
   "source": [
    "M = scipy.io.mmread(\"MobMat_TCMAT.mtx\");\n",
    "\n",
    "fig, axs = plt.subplots(1, 1);\n",
    "ax1 = axs;\n",
    "ax1.spy(M);"
   ]
  },
  {
   "cell_type": "code",
   "execution_count": 4,
   "metadata": {},
   "outputs": [
    {
     "data": {
      "image/png": "[encoded data removed]",
      "text/plain": [
       "<Figure size 432x288 with 1 Axes>"
      ]
     },
     "metadata": {
      "needs_background": "light"
     },
     "output_type": "display_data"
    }
   ],
   "source": [
    "fig, axs = plt.subplots(1, 1);\n",
    "ax1 = axs;\n",
    "M1 = M.tocsr();\n",
    "ax1.spy(M1[0:99,0:99]);"
   ]
  },
  {
   "cell_type": "code",
   "execution_count": 5,
   "metadata": {},
   "outputs": [],
   "source": [
    "D1 = D.tocsr();\n",
    "D1t = Dt.tocsr();\n",
    "\n",
    "a = Dt*M*D;"
   ]
  },
  {
   "cell_type": "code",
   "execution_count": 6,
   "metadata": {},
   "outputs": [
    {
     "data": {
      "image/png": "[encoded data removed]",
      "text/plain": [
       "<Figure size 432x288 with 1 Axes>"
      ]
     },
     "metadata": {
      "needs_background": "light"
     },
     "output_type": "display_data"
    }
   ],
   "source": [
    "fig, axs = plt.subplots(1, 1);\n",
    "ax1 = axs;\n",
    "ax1.spy(a);"
   ]
  },
  {
   "cell_type": "code",
   "execution_count": 7,
   "metadata": {},
   "outputs": [
    {
     "name": "stdout",
     "output_type": "stream",
     "text": [
      "m =  3202 , n =  3202\n",
      "(3202, 1)\n"
     ]
    }
   ],
   "source": [
    "[m,n] = a.shape;\n",
    "print(\"m = \", m, \", n = \", n);\n",
    "import numpy as np\n",
    "#b = np.random.rand()\n",
    "b = np.random.rand(m,1);\n",
    "print(b.shape)\n",
    "G = -1.0*scipy.sparse.identity(m,format=\"coo\");\n",
    "h = np.zeros([m,1]);"
   ]
  },
  {
   "cell_type": "markdown",
   "metadata": {},
   "source": [
    "# Solve by cvxopt toolbox (interior point method)"
   ]
  },
  {
   "cell_type": "code",
   "execution_count": 8,
   "metadata": {},
   "outputs": [
    {
     "name": "stdout",
     "output_type": "stream",
     "text": [
      "     pcost       dcost       gap    pres   dres\n",
      " 0: -5.6222e+02  1.5565e+03  1e+04  1e+02  3e+00\n",
      " 1:  5.1460e+02 -8.7551e+02  7e+03  6e+01  1e+00\n",
      " 2:  8.8933e+02 -2.7663e+02  2e+03  7e+00  2e-01\n",
      " 3:  1.9741e+02 -3.0545e+01  3e+02  8e-01  2e-02\n",
      " 4:  4.0684e+01 -4.9262e+00  5e+01  3e-02  7e-04\n",
      " 5:  8.8118e+00 -8.6336e-01  1e+01  3e-03  5e-05\n",
      " 6:  1.8008e+00 -1.2501e-01  2e+00  2e-04  5e-06\n",
      " 7:  2.6329e-01 -1.3737e-02  3e-01  2e-05  5e-07\n",
      " 8:  2.6556e-02 -1.0977e-03  3e-02  2e-06  4e-08\n",
      " 9:  1.2803e-03 -6.9170e-05  1e-03  6e-08  1e-09\n",
      "10:  5.4919e-05 -5.1674e-06  6e-05  2e-09  3e-11\n",
      "11:  2.3068e-06 -4.0976e-07  3e-06  3e-11  5e-13\n",
      "12:  1.5838e-07 -2.7348e-08  2e-07  3e-13  6e-15\n",
      "13:  1.1027e-08 -1.4402e-09  1e-08  3e-15  4e-16\n",
      "Optimal solution found.\n"
     ]
    }
   ],
   "source": [
    "from cvxopt import matrix, spmatrix, solvers\n",
    "a_coo = a.tocoo()\n",
    "P = spmatrix(a_coo.data.tolist(),a_coo.row.tolist(),a_coo.col.tolist(),size=a_coo.shape)\n",
    "q = matrix(b,tc='d')\n",
    "G1 = spmatrix(G.data.tolist(),G.row.tolist(),G.col.tolist(),size=G.shape)\n",
    "h1 = matrix(h,tc='d')\n",
    "\n",
    "sol = solvers.qp(P,q,G1,h1)"
   ]
  },
  {
   "cell_type": "markdown",
   "metadata": {},
   "source": [
    "# Solve by scipy optimization methods"
   ]
  },
  {
   "cell_type": "code",
   "execution_count": 9,
   "metadata": {},
   "outputs": [],
   "source": [
    "def quadfunc(x,A,b):\n",
    "    xt = x.transpose()\n",
    "    fx = 0.5*xt.dot(A.dot(x))+xt.dot(b)\n",
    "    \n",
    "    return fx[0]"
   ]
  },
  {
   "cell_type": "code",
   "execution_count": 10,
   "metadata": {},
   "outputs": [
    {
     "name": "stdout",
     "output_type": "stream",
     "text": [
      "`gtol` termination condition is satisfied.\n",
      "Number of iterations: 52, function evaluations: 147338, CG iterations: 463, optimality: 8.28e-09, constraint violation: 0.00e+00, execution time: 2.9e+01 s.\n"
     ]
    }
   ],
   "source": [
    "from scipy.optimize import Bounds, minimize\n",
    "\n",
    "ub = np.full(h.shape,np.Inf)\n",
    "ub = np.resize(ub,m)\n",
    "ul = np.resize(h,m)\n",
    "bds = Bounds(ul,ub)\n",
    "x0 = np.zeros([m,])\n",
    "\n",
    "res = minimize(quadfunc,x0,args=(a,b),method='trust-constr',options={'verbose': 1}, bounds=bds)"
   ]
  },
  {
   "cell_type": "code",
   "execution_count": null,
   "metadata": {},
   "outputs": [],
   "source": []
  }
 ],
 "metadata": {
  "kernelspec": {
   "display_name": "Python (william-python36)",
   "language": "python",
   "name": "william-python36"
  },
  "language_info": {
   "codemirror_mode": {
    "name": "ipython",
    "version": 3
   },
   "file_extension": ".py",
   "mimetype": "text/x-python",
   "name": "python",
   "nbconvert_exporter": "python",
   "pygments_lexer": "ipython3",
   "version": "3.6.10"
  }
 },
 "nbformat": 4,
 "nbformat_minor": 4
}
